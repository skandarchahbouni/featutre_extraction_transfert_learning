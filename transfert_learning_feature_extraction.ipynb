{
  "nbformat": 4,
  "nbformat_minor": 0,
  "metadata": {
    "colab": {
      "name": "transfert_learning_feature_extraction.ipynb",
      "provenance": []
    },
    "kernelspec": {
      "name": "python3",
      "display_name": "Python 3"
    },
    "language_info": {
      "name": "python"
    },
    "accelerator": "GPU",
    "gpuClass": "standard"
  },
  "cells": [
    {
      "cell_type": "markdown",
      "source": [
        "### Downlaod and preprocess the data"
      ],
      "metadata": {
        "id": "IkSw9tpRoPFN"
      }
    },
    {
      "cell_type": "code",
      "execution_count": 1,
      "metadata": {
        "colab": {
          "base_uri": "https://localhost:8080/"
        },
        "id": "7UyAvPmXn-cW",
        "outputId": "522929bf-6740-4a68-c60e-0352158a9836"
      },
      "outputs": [
        {
          "output_type": "stream",
          "name": "stdout",
          "text": [
            "--2022-07-06 13:10:21--  https://storage.googleapis.com/ztm_tf_course/food_vision/10_food_classes_10_percent.zip\n",
            "Resolving storage.googleapis.com (storage.googleapis.com)... 142.250.1.128, 108.177.120.128, 142.250.128.128, ...\n",
            "Connecting to storage.googleapis.com (storage.googleapis.com)|142.250.1.128|:443... connected.\n",
            "HTTP request sent, awaiting response... 200 OK\n",
            "Length: 168546183 (161M) [application/zip]\n",
            "Saving to: ‘10_food_classes_10_percent.zip’\n",
            "\n",
            "10_food_classes_10_ 100%[===================>] 160.74M   239MB/s    in 0.7s    \n",
            "\n",
            "2022-07-06 13:10:22 (239 MB/s) - ‘10_food_classes_10_percent.zip’ saved [168546183/168546183]\n",
            "\n"
          ]
        }
      ],
      "source": [
        "!wget https://storage.googleapis.com/ztm_tf_course/food_vision/10_food_classes_10_percent.zip"
      ]
    },
    {
      "cell_type": "code",
      "source": [
        "import zipfile \n",
        "zip_ref = zipfile.ZipFile(\"10_food_classes_10_percent.zip\", \"r\")\n",
        "zip_ref.extractall()\n",
        "zip_ref.close()"
      ],
      "metadata": {
        "id": "xt6goJb0ojur"
      },
      "execution_count": 3,
      "outputs": []
    },
    {
      "cell_type": "code",
      "source": [
        "import os \n",
        "for dirpath, dirnames, filenames in os.walk(\"10_food_classes_10_percent\"):\n",
        "  print(f\"there are {len(dirnames)} directory and {len(filenames)} file in {dirpath}\")"
      ],
      "metadata": {
        "id": "5TlYKCw1o4n6"
      },
      "execution_count": null,
      "outputs": []
    },
    {
      "cell_type": "markdown",
      "source": [
        "### Preprocessing data"
      ],
      "metadata": {
        "id": "Objy9rLRpYux"
      }
    },
    {
      "cell_type": "code",
      "source": [
        "dir_path = \"10_food_classes_10_percent\""
      ],
      "metadata": {
        "id": "BExZIVJVqAsi"
      },
      "execution_count": 9,
      "outputs": []
    },
    {
      "cell_type": "code",
      "source": [
        "from tensorflow.keras.preprocessing import image "
      ],
      "metadata": {
        "id": "th5NN4tjpXzz"
      },
      "execution_count": 6,
      "outputs": []
    },
    {
      "cell_type": "code",
      "source": [
        "train_gen = image.ImageDataGenerator(rescale=1/255.)\n",
        "test_gen = image.ImageDataGenerator(rescale=1/255.)\n",
        "\n",
        "train_scaled = train_gen.flow_from_directory(f\"{dir_path}/train\")\n",
        "test_scaled = train_gen.flow_from_directory(f\"{dir_path}/test\")"
      ],
      "metadata": {
        "colab": {
          "base_uri": "https://localhost:8080/"
        },
        "id": "sAqsqKEBppeK",
        "outputId": "a0730eba-7aa7-4150-9735-679f5bef5014"
      },
      "execution_count": 10,
      "outputs": [
        {
          "output_type": "stream",
          "name": "stdout",
          "text": [
            "Found 750 images belonging to 10 classes.\n",
            "Found 2500 images belonging to 10 classes.\n"
          ]
        }
      ]
    },
    {
      "cell_type": "code",
      "source": [
        "class_names = list(dict.keys(train_scaled.class_indices))"
      ],
      "metadata": {
        "id": "Jo52sA4JrPAZ"
      },
      "execution_count": 16,
      "outputs": []
    },
    {
      "cell_type": "markdown",
      "source": [
        "### Creating model (resnet)"
      ],
      "metadata": {
        "id": "yQ1mNWKPqPlp"
      }
    },
    {
      "cell_type": "code",
      "source": [
        "import tensorflow as tf\n",
        "import tensorflow_hub as hub"
      ],
      "metadata": {
        "id": "gVImOXLpqmJm"
      },
      "execution_count": 20,
      "outputs": []
    },
    {
      "cell_type": "code",
      "source": [
        "tf.random.set_seed(42)\n",
        "# \n",
        "model = tf.keras.Sequential([\n",
        "                            #  tf.keras.layers.Flatten(),\n",
        "                            hub.KerasLayer(\"https://tfhub.dev/google/imagenet/resnet_v1_101/feature_vector/5\"),\n",
        "                            tf.keras.layers.Dense(len(class_names), activation=\"softmax\")\n",
        "])\n",
        "# \n",
        "model.compile(loss=tf.keras.losses.categorical_crossentropy , optimizer=tf.keras.optimizers.Adam(), metrics=[\"accuracy\"])\n",
        "# \n",
        "model.fit(train_scaled, validation_data=test_scaled, verbose=1, epochs=5)"
      ],
      "metadata": {
        "colab": {
          "base_uri": "https://localhost:8080/"
        },
        "id": "L8_qkNgJqOfy",
        "outputId": "c621d28d-e884-4109-dc99-08baced26941"
      },
      "execution_count": 28,
      "outputs": [
        {
          "output_type": "stream",
          "name": "stdout",
          "text": [
            "Epoch 1/5\n",
            "24/24 [==============================] - 28s 923ms/step - loss: 1.8699 - accuracy: 0.4027 - val_loss: 1.0801 - val_accuracy: 0.6596\n",
            "Epoch 2/5\n",
            "24/24 [==============================] - 19s 825ms/step - loss: 0.8509 - accuracy: 0.7427 - val_loss: 0.7894 - val_accuracy: 0.7480\n",
            "Epoch 3/5\n",
            "24/24 [==============================] - 19s 829ms/step - loss: 0.5677 - accuracy: 0.8493 - val_loss: 0.6600 - val_accuracy: 0.7916\n",
            "Epoch 4/5\n",
            "24/24 [==============================] - 20s 835ms/step - loss: 0.4224 - accuracy: 0.8947 - val_loss: 0.6169 - val_accuracy: 0.8004\n",
            "Epoch 5/5\n",
            "24/24 [==============================] - 19s 831ms/step - loss: 0.3303 - accuracy: 0.9227 - val_loss: 0.5886 - val_accuracy: 0.8088\n"
          ]
        },
        {
          "output_type": "execute_result",
          "data": {
            "text/plain": [
              "<keras.callbacks.History at 0x7f20a0e93210>"
            ]
          },
          "metadata": {},
          "execution_count": 28
        }
      ]
    },
    {
      "cell_type": "markdown",
      "source": [
        "### Efficient net "
      ],
      "metadata": {
        "id": "RPveP1AfukNw"
      }
    },
    {
      "cell_type": "code",
      "source": [
        "tf.random.set_seed(42)\n",
        "# \n",
        "model = tf.keras.Sequential([\n",
        "                            #  tf.keras.layers.Flatten(),\n",
        "                            hub.KerasLayer(\"https://tfhub.dev/tensorflow/efficientnet/b0/feature-vector/1\"),\n",
        "                            tf.keras.layers.Dense(len(class_names), activation=\"softmax\")\n",
        "])\n",
        "# \n",
        "model.compile(loss=tf.keras.losses.categorical_crossentropy , optimizer=tf.keras.optimizers.Adam(), metrics=[\"accuracy\"])\n",
        "# \n",
        "model.fit(train_scaled, validation_data=test_scaled, verbose=1, epochs=5)"
      ],
      "metadata": {
        "colab": {
          "base_uri": "https://localhost:8080/"
        },
        "id": "-WFdMIv2ubJZ",
        "outputId": "060911a4-136a-4d5e-c46d-8b0f99c87a9c"
      },
      "execution_count": 29,
      "outputs": [
        {
          "output_type": "stream",
          "name": "stdout",
          "text": [
            "Epoch 1/5\n",
            "24/24 [==============================] - 25s 763ms/step - loss: 1.8684 - accuracy: 0.4107 - val_loss: 1.2853 - val_accuracy: 0.7372\n",
            "Epoch 2/5\n",
            "24/24 [==============================] - 16s 699ms/step - loss: 1.0692 - accuracy: 0.7613 - val_loss: 0.8574 - val_accuracy: 0.8344\n",
            "Epoch 3/5\n",
            "24/24 [==============================] - 16s 704ms/step - loss: 0.7586 - accuracy: 0.8400 - val_loss: 0.6847 - val_accuracy: 0.8544\n",
            "Epoch 4/5\n",
            "24/24 [==============================] - 16s 693ms/step - loss: 0.6108 - accuracy: 0.8760 - val_loss: 0.5965 - val_accuracy: 0.8624\n",
            "Epoch 5/5\n",
            "24/24 [==============================] - 16s 692ms/step - loss: 0.5164 - accuracy: 0.9000 - val_loss: 0.5473 - val_accuracy: 0.8672\n"
          ]
        },
        {
          "output_type": "execute_result",
          "data": {
            "text/plain": [
              "<keras.callbacks.History at 0x7f1fb84cae90>"
            ]
          },
          "metadata": {},
          "execution_count": 29
        }
      ]
    }
  ]
}